{
 "cells": [
  {
   "cell_type": "code",
   "execution_count": null,
   "id": "c5d1f507-9c89-41dc-b1fd-b089dcccd764",
   "metadata": {},
   "outputs": [],
   "source": []
  }
 ],
 "metadata": {
  "kernelspec": {
   "display_name": "",
   "name": ""
  },
  "language_info": {
   "name": ""
  }
 },
 "nbformat": 4,
 "nbformat_minor": 5
}
